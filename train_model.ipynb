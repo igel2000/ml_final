{
 "cells": [
  {
   "cell_type": "markdown",
   "id": "398cc66a",
   "metadata": {},
   "source": [
    "# Импорт библиотек"
   ]
  },
  {
   "cell_type": "code",
   "execution_count": 1,
   "id": "562e06c3",
   "metadata": {},
   "outputs": [],
   "source": [
    "from pathlib import Path\n",
    "from PIL import Image\n",
    "from sklearn.model_selection import train_test_split\n",
    "from tqdm import tqdm\n",
    "from pathlib import Path\n",
    "import matplotlib.pyplot as plt\n",
    "import numpy as np\n",
    "\n",
    "import torch\n",
    "import torch.nn as nn\n",
    "import torch.optim as optim\n",
    "from torch import nn, optim\n",
    "from torch.optim.lr_scheduler import ReduceLROnPlateau\n",
    "from torch.utils.data import Dataset\n",
    "\n",
    "import albumentations as A\n",
    "\n",
    "import zipfile\n",
    "import dotenv\n",
    "\n",
    "from dotenv import dotenv_values\n",
    "\n",
    "from PIL import Image\n",
    "from torchvision.transforms import ToTensor\n",
    "\n",
    "from colorize_model import ColorizationModel\n",
    "import utils\n"
   ]
  },
  {
   "cell_type": "markdown",
   "id": "d74bbc1b",
   "metadata": {},
   "source": [
    "# Настройки"
   ]
  },
  {
   "cell_type": "code",
   "execution_count": 2,
   "id": "9c931114",
   "metadata": {},
   "outputs": [
    {
     "name": "stdout",
     "output_type": "stream",
     "text": [
      "root_folder: /home/igel2/Projects/ml_final\n",
      "dataset_folder: /home/igel2/Projects/ml_final/data\n",
      "models_folder: /home/igel2/Projects/ml_final/models\n",
      "output_folder: /home/igel2/Projects/ml_final/outputs\n",
      "gray_folder_01: /home/igel2/Projects/ml_final/data/landscape-image-colorization/landscape Images/gray\n",
      "color_folder_01: /home/igel2/Projects/ml_final/data/landscape-image-colorization/landscape Images/color\n",
      "gray_folder_02: /home/igel2/Projects/ml_final/data/image-colorization-dataset/data/train_black\n",
      "color_folder_02: /home/igel2/Projects/ml_final/data/image-colorization-dataset/data/train_color\n"
     ]
    }
   ],
   "source": [
    "# загрузить параметры\n",
    "settings = {\n",
    "    **dotenv_values(\"settings\")\n",
    "}\n",
    "\n",
    "SEED = int(settings['SEED'])\n",
    "IMAGE_SIZE = int(settings['IMAGE_SIZE'])\n",
    "\n",
    "root_folder = Path.cwd()\n",
    "print(f'root_folder: {root_folder}')\n",
    "\n",
    "data_folder = Path(root_folder, settings['DATA_SUBFOLDER'])\n",
    "print(f'dataset_folder: {data_folder}')\n",
    "if not Path.is_dir(data_folder):\n",
    "    data_folder.mkdir()\n",
    "\n",
    "models_folder = Path(root_folder, settings['MODELS_SUBFOLDER'])\n",
    "print(f'models_folder: {models_folder}')\n",
    "if not Path.is_dir(models_folder):\n",
    "    models_folder.mkdir()\n",
    "\n",
    "output_folder = Path(root_folder, settings['OUTPUT_SUBFOLDER'])\n",
    "print(f'output_folder: {output_folder}')\n",
    "if not Path.is_dir(output_folder):\n",
    "    output_folder.mkdir()\n",
    "\n",
    "DATASET_ZIP_FILENAME_01 = settings['DATASET_ZIP_FILENAME_01']\n",
    "GRAY_SUBFOLDER_01 = settings['GRAY_SUBFOLDER_01']\n",
    "COLOR_SUBFOLDER_01 = settings['COLOR_SUBFOLDER_01']\n",
    "\n",
    "dataset_zip_01 = Path(data_folder, f'{DATASET_ZIP_FILENAME_01}.zip')\n",
    "extracted_dataset_folder_01 = Path(data_folder, DATASET_ZIP_FILENAME_01)\n",
    "\n",
    "gray_folder_01 = Path(extracted_dataset_folder_01, GRAY_SUBFOLDER_01)\n",
    "color_folder_01 = Path(extracted_dataset_folder_01, COLOR_SUBFOLDER_01)\n",
    "print(f'gray_folder_01: {gray_folder_01}')\n",
    "print(f'color_folder_01: {color_folder_01}')    \n",
    "\n",
    "\n",
    "DATASET_ZIP_FILENAME_02 = settings['DATASET_ZIP_FILENAME_02']\n",
    "GRAY_SUBFOLDER_02 = settings['GRAY_SUBFOLDER_02']\n",
    "COLOR_SUBFOLDER_02 = settings['COLOR_SUBFOLDER_02']\n",
    "\n",
    "dataset_zip_02 = Path(data_folder, f'{DATASET_ZIP_FILENAME_02}.zip')\n",
    "extracted_dataset_folder_02 = Path(data_folder, DATASET_ZIP_FILENAME_02)\n",
    "\n",
    "gray_folder_02 = Path(extracted_dataset_folder_02, GRAY_SUBFOLDER_02)\n",
    "color_folder_02 = Path(extracted_dataset_folder_02, COLOR_SUBFOLDER_02)\n",
    "print(f'gray_folder_02: {gray_folder_02}')\n",
    "print(f'color_folder_02: {color_folder_02}')    "
   ]
  },
  {
   "cell_type": "code",
   "execution_count": 3,
   "id": "6a448e4d",
   "metadata": {},
   "outputs": [
    {
     "name": "stdout",
     "output_type": "stream",
     "text": [
      "device=cuda\n"
     ]
    }
   ],
   "source": [
    "device = 'cuda' if torch.cuda.is_available() else 'cpu'\n",
    "print(f'device={device}')\n",
    "seed_worker = utils.set_seed(SEED)"
   ]
  },
  {
   "cell_type": "code",
   "execution_count": null,
   "id": "af278a08",
   "metadata": {},
   "outputs": [],
   "source": [
    "# True - меньше эпох и только небольшая часть выборки\n",
    "DEBUG_MODE = False\n",
    "\n",
    "if DEBUG_MODE:\n",
    "    num_epochs = 7\n",
    "    part_of_dataset = 0.3\n",
    "else:\n",
    "    num_epochs = 50\n",
    "\n",
    "num_workers = 4\n",
    "batch_size = 16\n",
    "test_size=0.2\n"
   ]
  },
  {
   "cell_type": "markdown",
   "id": "f5a6cd2e",
   "metadata": {},
   "source": [
    "# Подготовка набора картинок"
   ]
  },
  {
   "cell_type": "markdown",
   "id": "6877a9e8",
   "metadata": {},
   "source": [
    "Загрузим два разных датасета и обучать будем на миксе двух датасетов. Так модель получилась лучше"
   ]
  },
  {
   "cell_type": "code",
   "execution_count": 5,
   "id": "59667e88",
   "metadata": {},
   "outputs": [
    {
     "name": "stdout",
     "output_type": "stream",
     "text": [
      "Warning: Looks like you're using an outdated API Version, please consider updating (server 1.7.4.2 / client 1.6.17)\n",
      "Dataset URL: https://www.kaggle.com/datasets/theblackmamba31/landscape-image-colorization\n",
      "License(s): unknown\n",
      "Downloading landscape-image-colorization.zip to data\n",
      " 99%|███████████████████████████████████████▌| 190M/192M [00:06<00:00, 32.7MB/s]\n",
      "100%|████████████████████████████████████████| 192M/192M [00:06<00:00, 30.7MB/s]\n",
      "Warning: Looks like you're using an outdated API Version, please consider updating (server 1.7.4.2 / client 1.6.17)\n",
      "Dataset URL: https://www.kaggle.com/datasets/aayush9753/image-colorization-dataset\n",
      "License(s): unknown\n",
      "Downloading image-colorization-dataset.zip to data\n",
      " 99%|███████████████████████████████████████▋| 470M/473M [00:14<00:00, 37.5MB/s]\n",
      "100%|████████████████████████████████████████| 473M/473M [00:14<00:00, 33.4MB/s]\n"
     ]
    }
   ],
   "source": [
    "if not dataset_zip_01.exists():\n",
    "    !kaggle datasets download theblackmamba31/landscape-image-colorization -p \"data\"\n",
    "\n",
    "if not extracted_dataset_folder_01.exists():\n",
    "    with zipfile.ZipFile(dataset_zip_01, 'r') as clr_dataset_zip:\n",
    "        clr_dataset_zip.extractall(extracted_dataset_folder_01)\n",
    "\n",
    "if not dataset_zip_02.exists():\n",
    "    !kaggle datasets download aayush9753/image-colorization-dataset -p \"data\"\n",
    "\n",
    "    with zipfile.ZipFile(dataset_zip_02, 'r') as clr_dataset_zip:\n",
    "        clr_dataset_zip.extractall(extracted_dataset_folder_02)\n"
   ]
  },
  {
   "cell_type": "code",
   "execution_count": 6,
   "id": "fe3bcf53",
   "metadata": {},
   "outputs": [],
   "source": [
    "# соберем микс из двух датасетов и подели на тренировочную и валидационную выборки\n",
    "# Учтем отладочный режим - если он включен, то используем только часть датасета, размер которой задан в part_of_dataset\n",
    "\n",
    "color_files_train = []\n",
    "gray_files_train = []\n",
    "color_files_val = []\n",
    "gray_files_val = []\n",
    "\n",
    "color_files_01 = sorted(color_folder_01.glob(\"*.jpg\"), key=lambda x: int(x.stem))\n",
    "gray_files_01 = sorted(gray_folder_01.glob(\"*.jpg\"), key=lambda x: int(x.stem))\n",
    "if DEBUG_MODE:\n",
    "    color_files_01 = color_files_01[:int(len(color_files_01) * part_of_dataset)]\n",
    "    gray_files_01 = gray_files_01[:int(len(gray_files_01) * part_of_dataset)]\n",
    "idx_01 = [i for i in range(len(color_files_01))]\n",
    "train_idx_01, val_idx_01 = train_test_split(idx_01, test_size=test_size, random_state=SEED)\n",
    "for i in train_idx_01:\n",
    "    color_files_train.append(color_files_01[i])\n",
    "    gray_files_train.append(gray_files_01[i])\n",
    "for i in val_idx_01:\n",
    "    color_files_val.append(color_files_01[i])\n",
    "    gray_files_val.append(gray_files_01[i])    \n",
    "\n",
    "color_files_02 = sorted(color_folder_02.glob(\"*.jpg\"), key=lambda x: int(x.stem.replace('image', '')))\n",
    "gray_files_02 = sorted(gray_folder_02.glob(\"*.jpg\"), key=lambda x: int(x.stem.replace('image', '')))\n",
    "if DEBUG_MODE:\n",
    "    color_files_02 = color_files_02[:int(len(color_files_02) * part_of_dataset)]\n",
    "    gray_files_02 = gray_files_02[:int(len(gray_files_02) * part_of_dataset)]\n",
    "idx_02 = [i for i in range(len(color_files_02))]\n",
    "train_idx_02, val_idx_02 = train_test_split(idx_02, test_size=test_size, random_state=SEED)\n",
    "for i in train_idx_02:\n",
    "    color_files_train.append(color_files_02[i])\n",
    "    gray_files_train.append(gray_files_02[i])\n",
    "for i in val_idx_02:\n",
    "    color_files_val.append(color_files_02[i])\n",
    "    gray_files_val.append(gray_files_02[i])"
   ]
  },
  {
   "cell_type": "code",
   "execution_count": 7,
   "id": "74f6e8ef",
   "metadata": {},
   "outputs": [
    {
     "name": "stdout",
     "output_type": "stream",
     "text": [
      "color_files_train: (2910,)\n",
      "grey_files_train: (2910,)\n",
      "color_files_test: (728,)\n",
      "grey_files_test: (728,)\n"
     ]
    }
   ],
   "source": [
    "print(f'color_files_train: {np.shape(color_files_train)}')\n",
    "print(f'grey_files_train: {np.shape(gray_files_train)}')\n",
    "print(f'color_files_test: {np.shape(color_files_val)}')\n",
    "print(f'grey_files_test: {np.shape(gray_files_val)}')"
   ]
  },
  {
   "cell_type": "markdown",
   "id": "d66f6d93",
   "metadata": {},
   "source": [
    "# Контроль структуры данных"
   ]
  },
  {
   "cell_type": "code",
   "execution_count": 8,
   "id": "313b6749",
   "metadata": {},
   "outputs": [],
   "source": [
    "# проверить наличие каталогов\n",
    "assert Path(extracted_dataset_folder_01).exists()\n",
    "assert Path(gray_folder_01).exists()\n",
    "assert Path(color_folder_01).exists()\n",
    "assert Path(gray_folder_02).exists()\n",
    "assert Path(color_folder_02).exists()\n",
    "assert Path(models_folder).exists()\n",
    "assert Path(output_folder).exists()\n"
   ]
  },
  {
   "cell_type": "markdown",
   "id": "8bbaa47b",
   "metadata": {},
   "source": [
    "# Dataset + DataLoader"
   ]
  },
  {
   "cell_type": "code",
   "execution_count": 9,
   "id": "02c39360",
   "metadata": {},
   "outputs": [],
   "source": [
    "class ColorizationDataset(Dataset):\n",
    "    def __init__(self, color_files, image_size=(400, 400), augment=True):\n",
    "        self.color_files = color_files\n",
    "        self.image_size = image_size\n",
    "        self.augment = augment\n",
    "\n",
    "        # Аугментации\n",
    "        self.spatial_aug = A.Compose([\n",
    "            A.RandomResizedCrop(size=image_size, scale=(0.95, 1.0)),\n",
    "            A.HorizontalFlip(p=0.5),\n",
    "            A.ShiftScaleRotate(shift_limit=0.05, scale_limit=0.1, rotate_limit=15, p=0.5),\n",
    "        ], additional_targets={'image0': 'image'})\n",
    "\n",
    "        self.final_transform = A.Compose([\n",
    "            A.Resize(image_size[0], image_size[1]),\n",
    "            A.Normalize(mean=(0.5, 0.5, 0.5), std=(0.5, 0.5, 0.5)) # Нормализация[-1, 1]\n",
    "        ])\n",
    "\n",
    "    def __len__(self):\n",
    "        return len(self.color_files)\n",
    "\n",
    "    def __getitem__(self, idx):\n",
    "        color_path = self.color_files[idx]\n",
    "        color_image = Image.open(color_path).convert(\"RGB\")\n",
    "        color_image = np.array(color_image)\n",
    "        if self.augment:\n",
    "            transformed = self.spatial_aug(image=color_image)\n",
    "            color_image = transformed[\"image\"]\n",
    "        # Нормализация и преобразование в тензор\n",
    "        color_image = self.final_transform(image=color_image)[\"image\"]\n",
    "        L, ab = utils.RGBTensor_to_LAB(ToTensor()(color_image))\n",
    "        return L, ab"
   ]
  },
  {
   "cell_type": "markdown",
   "id": "0b71d270",
   "metadata": {},
   "source": [
    "# fit()\n"
   ]
  },
  {
   "cell_type": "code",
   "execution_count": 10,
   "id": "3b335bcd",
   "metadata": {},
   "outputs": [],
   "source": [
    "def fit(model, train_loader, val_loader, num_epochs, device, criterion):\n",
    "\n",
    "    optimizer = optim.Adam(model.parameters(), lr=2e-4, betas=(0.5, 0.999))\n",
    "    \n",
    "    scheduler = ReduceLROnPlateau(optimizer, 'min', patience=3)\n",
    "\n",
    "    train_loss_by_epoch = []\n",
    "    val_loss_by_epoch = []\n",
    "\n",
    "    best_train_loss = float('inf')  # Лучший loss по train-criterion\n",
    "    best_val_loss = float('inf')  # Лучший loss по loss-criterion\n",
    "\n",
    "    for epoch in range(num_epochs):\n",
    "        # Training\n",
    "        model.train()\n",
    "        loop = tqdm(train_loader, desc=f\"Epoch {epoch+1}/{num_epochs}\")\n",
    "        train_losses = []\n",
    "        for input_L, target_ab in loop:\n",
    "            input_L = input_L.to(device)\n",
    "            target_ab = target_ab.to(device)\n",
    "\n",
    "            pred_ab = model(input_L)\n",
    "            loss = criterion(pred_ab, target_ab)\n",
    "\n",
    "            optimizer.zero_grad()\n",
    "            loss.backward()\n",
    "            optimizer.step()\n",
    "\n",
    "            loss_item = loss.item()\n",
    "\n",
    "            train_losses.append(loss_item)\n",
    "\n",
    "            loop.set_postfix(loss=loss_item)\n",
    "\n",
    "        avg_train_loss = np.mean(train_losses)\n",
    "        train_loss_by_epoch.append(avg_train_loss)\n",
    "\n",
    "        # Validation\n",
    "        model.eval()\n",
    "        val_losses = []\n",
    "        with torch.inference_mode():\n",
    "            val_bar = tqdm(val_loader, desc=\"Validation\")\n",
    "            for input_L, target_ab in val_bar:\n",
    "                input_L = input_L.to(device)\n",
    "                target_ab = target_ab.to(device)\n",
    "\n",
    "                pred_ab = model(input_L)\n",
    "                loss = criterion(pred_ab, target_ab)\n",
    "                loss_item = loss.item()\n",
    "\n",
    "                val_losses.append(loss_item)\n",
    "                val_bar.set_postfix(loss=loss_item)\n",
    "        avg_val_loss = np.mean(val_losses)\n",
    "        val_loss_by_epoch.append(avg_val_loss)\n",
    "\n",
    "        print(f\"Epoch {epoch+1}/{num_epochs} | \"\n",
    "              f\"Train G Loss: {avg_train_loss:.4f}, Train D Loss: {avg_train_loss:.4f} | \"\n",
    "              f\"Val G Loss: {avg_val_loss:.4f}, Val D Loss: {avg_val_loss:.4f}\")\n",
    "\n",
    "        # LR Scheduling\n",
    "        scheduler.step(avg_val_loss)\n",
    "\n",
    "        # === Сохранение лучшей модели ===\n",
    "        if avg_val_loss < best_val_loss:\n",
    "            best_val_disc_loss = avg_val_loss\n",
    "            fn = utils.model_filename(model, models_folder, \"best_val\")\n",
    "            torch.save(model.state_dict().copy(), fn)\n",
    "            print(f\"Новая лучшая по Validation Discriminator Loss ({best_val_disc_loss:.6f}) модель сохранена в {fn}.\")\n",
    "        if avg_train_loss < best_train_loss:\n",
    "            best_train_loss = avg_train_loss\n",
    "            fn = utils.model_filename(model, models_folder, \"best_train\")\n",
    "            torch.save(model.state_dict().copy(), fn)\n",
    "            print(f\"Новая лучшая по Train Discriminator Loss ({best_train_loss:.6f}) модель сохранена в {fn}.\")\n",
    "\n",
    "        print(\"\")\n",
    "\n",
    "        # === Сохранение чекпоинтов ===\n",
    "        torch.save(model.state_dict(), utils.model_filename(model, models_folder, f'_epoch{epoch+1}'))\n",
    "\n",
    "    return model, train_loss_by_epoch, val_loss_by_epoch"
   ]
  },
  {
   "cell_type": "markdown",
   "id": "34ed7449",
   "metadata": {},
   "source": [
    "# Обучение"
   ]
  },
  {
   "cell_type": "code",
   "execution_count": 11,
   "id": "dd0e6be9",
   "metadata": {},
   "outputs": [
    {
     "name": "stderr",
     "output_type": "stream",
     "text": [
      "/home/igel2/anaconda3/envs/mlgpu/lib/python3.12/site-packages/albumentations/core/validation.py:114: UserWarning: ShiftScaleRotate is a special case of Affine transform. Please use Affine transform instead.\n",
      "  original_init(self, **validated_kwargs)\n"
     ]
    }
   ],
   "source": [
    "train_dataset = ColorizationDataset(color_files_train, augment=True)\n",
    "train_loader = torch.utils.data.DataLoader(train_dataset, batch_size=batch_size, shuffle=True, pin_memory=True, \n",
    "                                           num_workers=num_workers, worker_init_fn=seed_worker)\n",
    "\n",
    "val_dataset = ColorizationDataset(color_files_val, augment=False)\n",
    "val_loader = torch.utils.data.DataLoader(val_dataset, batch_size=batch_size, shuffle=True, pin_memory=True, \n",
    "                                           num_workers=num_workers, worker_init_fn=seed_worker)"
   ]
  },
  {
   "cell_type": "code",
   "execution_count": 12,
   "id": "eebce5d3",
   "metadata": {},
   "outputs": [
    {
     "name": "stderr",
     "output_type": "stream",
     "text": [
      "Epoch 1/7: 100%|██████████| 182/182 [01:25<00:00,  2.14it/s, loss=0.0235]\n",
      "Validation: 100%|██████████| 46/46 [00:07<00:00,  6.37it/s, loss=0.0287]\n"
     ]
    },
    {
     "name": "stdout",
     "output_type": "stream",
     "text": [
      "Epoch 1/7 | Train G Loss: 0.0311, Train D Loss: 0.0311 | Val G Loss: 0.0268, Val D Loss: 0.0268\n",
      "Новая лучшая по Validation Discriminator Loss (0.026779) модель сохранена в /home/igel2/Projects/ml_final/models/ColorizationModel_best_val.pth.\n",
      "Новая лучшая по Train Discriminator Loss (0.031112) модель сохранена в /home/igel2/Projects/ml_final/models/ColorizationModel_best_train.pth.\n",
      "\n"
     ]
    },
    {
     "name": "stderr",
     "output_type": "stream",
     "text": [
      "Epoch 2/7: 100%|██████████| 182/182 [01:23<00:00,  2.18it/s, loss=0.0269]\n",
      "Validation: 100%|██████████| 46/46 [00:07<00:00,  6.48it/s, loss=0.0257]\n"
     ]
    },
    {
     "name": "stdout",
     "output_type": "stream",
     "text": [
      "Epoch 2/7 | Train G Loss: 0.0267, Train D Loss: 0.0267 | Val G Loss: 0.0287, Val D Loss: 0.0287\n",
      "Новая лучшая по Validation Discriminator Loss (0.028733) модель сохранена в /home/igel2/Projects/ml_final/models/ColorizationModel_best_val.pth.\n",
      "Новая лучшая по Train Discriminator Loss (0.026692) модель сохранена в /home/igel2/Projects/ml_final/models/ColorizationModel_best_train.pth.\n",
      "\n"
     ]
    },
    {
     "name": "stderr",
     "output_type": "stream",
     "text": [
      "Epoch 3/7: 100%|██████████| 182/182 [01:22<00:00,  2.19it/s, loss=0.0336]\n",
      "Validation: 100%|██████████| 46/46 [00:07<00:00,  6.41it/s, loss=0.0185]\n"
     ]
    },
    {
     "name": "stdout",
     "output_type": "stream",
     "text": [
      "Epoch 3/7 | Train G Loss: 0.0246, Train D Loss: 0.0246 | Val G Loss: 0.0241, Val D Loss: 0.0241\n",
      "Новая лучшая по Validation Discriminator Loss (0.024103) модель сохранена в /home/igel2/Projects/ml_final/models/ColorizationModel_best_val.pth.\n",
      "Новая лучшая по Train Discriminator Loss (0.024628) модель сохранена в /home/igel2/Projects/ml_final/models/ColorizationModel_best_train.pth.\n",
      "\n"
     ]
    },
    {
     "name": "stderr",
     "output_type": "stream",
     "text": [
      "Epoch 4/7: 100%|██████████| 182/182 [01:22<00:00,  2.21it/s, loss=0.0234]\n",
      "Validation: 100%|██████████| 46/46 [00:07<00:00,  6.53it/s, loss=0.0223]\n"
     ]
    },
    {
     "name": "stdout",
     "output_type": "stream",
     "text": [
      "Epoch 4/7 | Train G Loss: 0.0231, Train D Loss: 0.0231 | Val G Loss: 0.0244, Val D Loss: 0.0244\n",
      "Новая лучшая по Validation Discriminator Loss (0.024356) модель сохранена в /home/igel2/Projects/ml_final/models/ColorizationModel_best_val.pth.\n",
      "Новая лучшая по Train Discriminator Loss (0.023067) модель сохранена в /home/igel2/Projects/ml_final/models/ColorizationModel_best_train.pth.\n",
      "\n"
     ]
    },
    {
     "name": "stderr",
     "output_type": "stream",
     "text": [
      "Epoch 5/7: 100%|██████████| 182/182 [01:23<00:00,  2.19it/s, loss=0.0185]\n",
      "Validation: 100%|██████████| 46/46 [00:07<00:00,  6.53it/s, loss=0.0211]\n"
     ]
    },
    {
     "name": "stdout",
     "output_type": "stream",
     "text": [
      "Epoch 5/7 | Train G Loss: 0.0214, Train D Loss: 0.0214 | Val G Loss: 0.0235, Val D Loss: 0.0235\n",
      "Новая лучшая по Validation Discriminator Loss (0.023474) модель сохранена в /home/igel2/Projects/ml_final/models/ColorizationModel_best_val.pth.\n",
      "Новая лучшая по Train Discriminator Loss (0.021409) модель сохранена в /home/igel2/Projects/ml_final/models/ColorizationModel_best_train.pth.\n",
      "\n"
     ]
    },
    {
     "name": "stderr",
     "output_type": "stream",
     "text": [
      "Epoch 6/7: 100%|██████████| 182/182 [01:25<00:00,  2.12it/s, loss=0.0285] \n",
      "Validation: 100%|██████████| 46/46 [00:07<00:00,  6.56it/s, loss=0.0183]\n"
     ]
    },
    {
     "name": "stdout",
     "output_type": "stream",
     "text": [
      "Epoch 6/7 | Train G Loss: 0.0196, Train D Loss: 0.0196 | Val G Loss: 0.0228, Val D Loss: 0.0228\n",
      "Новая лучшая по Validation Discriminator Loss (0.022792) модель сохранена в /home/igel2/Projects/ml_final/models/ColorizationModel_best_val.pth.\n",
      "Новая лучшая по Train Discriminator Loss (0.019603) модель сохранена в /home/igel2/Projects/ml_final/models/ColorizationModel_best_train.pth.\n",
      "\n"
     ]
    },
    {
     "name": "stderr",
     "output_type": "stream",
     "text": [
      "Epoch 7/7: 100%|██████████| 182/182 [01:22<00:00,  2.19it/s, loss=0.0237]\n",
      "Validation: 100%|██████████| 46/46 [00:07<00:00,  6.45it/s, loss=0.0237]\n"
     ]
    },
    {
     "name": "stdout",
     "output_type": "stream",
     "text": [
      "Epoch 7/7 | Train G Loss: 0.0184, Train D Loss: 0.0184 | Val G Loss: 0.0221, Val D Loss: 0.0221\n",
      "Новая лучшая по Validation Discriminator Loss (0.022132) модель сохранена в /home/igel2/Projects/ml_final/models/ColorizationModel_best_val.pth.\n",
      "Новая лучшая по Train Discriminator Loss (0.018389) модель сохранена в /home/igel2/Projects/ml_final/models/ColorizationModel_best_train.pth.\n",
      "\n"
     ]
    }
   ],
   "source": [
    "model = ColorizationModel().to(device)\n",
    "criterion = nn.MSELoss()\n",
    "\n",
    "fit_result = fit(model, train_loader, val_loader, num_epochs, device, criterion)\n",
    "_, train_loss_by_epoch, val_loss_by_epoch = fit_result"
   ]
  },
  {
   "cell_type": "markdown",
   "id": "307a2871",
   "metadata": {},
   "source": [
    "# Визуализация loss-графиков "
   ]
  },
  {
   "cell_type": "code",
   "execution_count": 13,
   "id": "0635b6bf",
   "metadata": {},
   "outputs": [],
   "source": [
    "def plot_losses(train_Loss, val_Loss):\n",
    "    epochs = range(1, len(train_Loss) + 1)\n",
    "    val_epochs = range(1, len(val_Loss) + 1)\n",
    "\n",
    "    plt.figure(figsize=(14, 6))\n",
    "\n",
    "    # График потерь генератора\n",
    "    plt.plot(epochs, train_Loss, label='Train Loss', alpha=0.7)\n",
    "    plt.plot(val_epochs, val_Loss, label='Validation Loss', alpha=0.7)\n",
    "    plt.title('Loss')\n",
    "    plt.xlabel('Epoch')\n",
    "    plt.ylabel('Loss')\n",
    "    plt.legend()\n",
    "    plt.grid(True)\n",
    "\n",
    "    plt.tight_layout()\n",
    "    plt.show()"
   ]
  },
  {
   "cell_type": "code",
   "execution_count": 14,
   "id": "3e6a6269",
   "metadata": {},
   "outputs": [
    {
     "data": {
      "image/png": "[encoded data removed]",
      "text/plain": [
       "<Figure size 1400x600 with 1 Axes>"
      ]
     },
     "metadata": {},
     "output_type": "display_data"
    }
   ],
   "source": [
    "# Визуализация графиков\n",
    "plot_losses(train_loss_by_epoch, val_loss_by_epoch)"
   ]
  }
 ],
 "metadata": {
  "kernelspec": {
   "display_name": "mlgpu",
   "language": "python",
   "name": "python3"
  },
  "language_info": {
   "codemirror_mode": {
    "name": "ipython",
    "version": 3
   },
   "file_extension": ".py",
   "mimetype": "text/x-python",
   "name": "python",
   "nbconvert_exporter": "python",
   "pygments_lexer": "ipython3",
   "version": "3.12.9"
  }
 },
 "nbformat": 4,
 "nbformat_minor": 5
}
