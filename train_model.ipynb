{
 "cells": [
  {
   "cell_type": "markdown",
   "id": "398cc66a",
   "metadata": {},
   "source": [
    "# Импорт библиотек"
   ]
  },
  {
   "cell_type": "code",
   "execution_count": 15,
   "id": "562e06c3",
   "metadata": {},
   "outputs": [],
   "source": [
    "from pathlib import Path\n",
    "from PIL import Image\n",
    "from sklearn.model_selection import train_test_split\n",
    "from tqdm import tqdm\n",
    "from pathlib import Path\n",
    "import matplotlib.pyplot as plt\n",
    "import numpy as np\n",
    "\n",
    "import torch\n",
    "import torch.nn as nn\n",
    "import torch.optim as optim\n",
    "from torch import nn, optim\n",
    "from torch.optim.lr_scheduler import ReduceLROnPlateau\n",
    "from torch.utils.data import Dataset\n",
    "\n",
    "import albumentations as A\n",
    "\n",
    "import zipfile\n",
    "import dotenv\n",
    "\n",
    "from dotenv import dotenv_values\n",
    "\n",
    "from PIL import Image\n",
    "from torchvision.transforms import ToTensor\n",
    "\n",
    "from colorize_model import ColorizationModel\n",
    "import utils\n"
   ]
  },
  {
   "cell_type": "markdown",
   "id": "d74bbc1b",
   "metadata": {},
   "source": [
    "# Настройки"
   ]
  },
  {
   "cell_type": "code",
   "execution_count": 16,
   "id": "9c931114",
   "metadata": {},
   "outputs": [
    {
     "name": "stdout",
     "output_type": "stream",
     "text": [
      "root_folder: /home/igel2/Projects/ml_final\n",
      "dataset_folder: /home/igel2/Projects/ml_final/data\n",
      "models_folder: /home/igel2/Projects/ml_final/models\n",
      "output_folder: /home/igel2/Projects/ml_final/outputs\n",
      "gray_folder_01: /home/igel2/Projects/ml_final/data/landscape-image-colorization/landscape Images/gray\n",
      "color_folder_01: /home/igel2/Projects/ml_final/data/landscape-image-colorization/landscape Images/color\n",
      "gray_folder_02: /home/igel2/Projects/ml_final/data/image-colorization-dataset/data/train_black\n",
      "color_folder_02: /home/igel2/Projects/ml_final/data/image-colorization-dataset/data/train_color\n"
     ]
    }
   ],
   "source": [
    "# загрузить параметры\n",
    "settings = {\n",
    "    **dotenv_values(\"settings\")\n",
    "}\n",
    "\n",
    "SEED = int(settings['SEED'])\n",
    "IMAGE_SIZE = int(settings['IMAGE_SIZE'])\n",
    "\n",
    "root_folder = Path.cwd()\n",
    "print(f'root_folder: {root_folder}')\n",
    "\n",
    "data_folder = Path(root_folder, settings['DATA_SUBFOLDER'])\n",
    "print(f'dataset_folder: {data_folder}')\n",
    "if not Path.is_dir(data_folder):\n",
    "    data_folder.mkdir()\n",
    "\n",
    "models_folder = Path(root_folder, settings['MODELS_SUBFOLDER'])\n",
    "print(f'models_folder: {models_folder}')\n",
    "if not Path.is_dir(models_folder):\n",
    "    models_folder.mkdir()\n",
    "\n",
    "output_folder = Path(root_folder, settings['OUTPUT_SUBFOLDER'])\n",
    "print(f'output_folder: {output_folder}')\n",
    "if not Path.is_dir(output_folder):\n",
    "    output_folder.mkdir()\n",
    "\n",
    "DATASET_ZIP_FILENAME_01 = settings['DATASET_ZIP_FILENAME_01']\n",
    "GRAY_SUBFOLDER_01 = settings['GRAY_SUBFOLDER_01']\n",
    "COLOR_SUBFOLDER_01 = settings['COLOR_SUBFOLDER_01']\n",
    "\n",
    "dataset_zip_01 = Path(data_folder, f'{DATASET_ZIP_FILENAME_01}.zip')\n",
    "extracted_dataset_folder_01 = Path(data_folder, DATASET_ZIP_FILENAME_01)\n",
    "\n",
    "gray_folder_01 = Path(extracted_dataset_folder_01, GRAY_SUBFOLDER_01)\n",
    "color_folder_01 = Path(extracted_dataset_folder_01, COLOR_SUBFOLDER_01)\n",
    "print(f'gray_folder_01: {gray_folder_01}')\n",
    "print(f'color_folder_01: {color_folder_01}')    \n",
    "\n",
    "\n",
    "DATASET_ZIP_FILENAME_02 = settings['DATASET_ZIP_FILENAME_02']\n",
    "GRAY_SUBFOLDER_02 = settings['GRAY_SUBFOLDER_02']\n",
    "COLOR_SUBFOLDER_02 = settings['COLOR_SUBFOLDER_02']\n",
    "\n",
    "dataset_zip_02 = Path(data_folder, f'{DATASET_ZIP_FILENAME_02}.zip')\n",
    "extracted_dataset_folder_02 = Path(data_folder, DATASET_ZIP_FILENAME_02)\n",
    "\n",
    "gray_folder_02 = Path(extracted_dataset_folder_02, GRAY_SUBFOLDER_02)\n",
    "color_folder_02 = Path(extracted_dataset_folder_02, COLOR_SUBFOLDER_02)\n",
    "print(f'gray_folder_02: {gray_folder_02}')\n",
    "print(f'color_folder_02: {color_folder_02}')    "
   ]
  },
  {
   "cell_type": "code",
   "execution_count": 17,
   "id": "6a448e4d",
   "metadata": {},
   "outputs": [
    {
     "name": "stdout",
     "output_type": "stream",
     "text": [
      "device=cuda\n"
     ]
    }
   ],
   "source": [
    "device = 'cuda' if torch.cuda.is_available() else 'cpu'\n",
    "print(f'device={device}')\n",
    "seed_worker = utils.set_seed(SEED)"
   ]
  },
  {
   "cell_type": "code",
   "execution_count": 18,
   "id": "af278a08",
   "metadata": {},
   "outputs": [],
   "source": [
    "# True - меньше эпох и только небольшая часть выборки\n",
    "DEBUG_MODE = False\n",
    "\n",
    "if DEBUG_MODE:\n",
    "    num_epochs = 7\n",
    "    part_of_dataset = 0.3\n",
    "else:\n",
    "    num_epochs = 50\n",
    "\n",
    "num_workers = 4\n",
    "batch_size = 16\n",
    "test_size=0.2\n"
   ]
  },
  {
   "cell_type": "markdown",
   "id": "f5a6cd2e",
   "metadata": {},
   "source": [
    "# Подготовка набора картинок"
   ]
  },
  {
   "cell_type": "markdown",
   "id": "6877a9e8",
   "metadata": {},
   "source": [
    "Загрузим два разных датасета и обучать будем на миксе двух датасетов. Так модель получилась лучше"
   ]
  },
  {
   "cell_type": "code",
   "execution_count": 19,
   "id": "59667e88",
   "metadata": {},
   "outputs": [],
   "source": [
    "if not dataset_zip_01.exists():\n",
    "    !kaggle datasets download theblackmamba31/landscape-image-colorization -p \"data\"\n",
    "\n",
    "if not extracted_dataset_folder_01.exists():\n",
    "    with zipfile.ZipFile(dataset_zip_01, 'r') as clr_dataset_zip:\n",
    "        clr_dataset_zip.extractall(extracted_dataset_folder_01)\n",
    "\n",
    "if not dataset_zip_02.exists():\n",
    "    !kaggle datasets download aayush9753/image-colorization-dataset -p \"data\"\n",
    "\n",
    "    with zipfile.ZipFile(dataset_zip_02, 'r') as clr_dataset_zip:\n",
    "        clr_dataset_zip.extractall(extracted_dataset_folder_02)\n"
   ]
  },
  {
   "cell_type": "code",
   "execution_count": 20,
   "id": "fe3bcf53",
   "metadata": {},
   "outputs": [],
   "source": [
    "# соберем микс из двух датасетов и подели на тренировочную и валидационную выборки\n",
    "# Учтем отладочный режим - если он включен, то используем только часть датасета, размер которой задан в part_of_dataset\n",
    "\n",
    "color_files_train = []\n",
    "gray_files_train = []\n",
    "color_files_val = []\n",
    "gray_files_val = []\n",
    "\n",
    "color_files_01 = sorted(color_folder_01.glob(\"*.jpg\"), key=lambda x: int(x.stem))\n",
    "gray_files_01 = sorted(gray_folder_01.glob(\"*.jpg\"), key=lambda x: int(x.stem))\n",
    "if DEBUG_MODE:\n",
    "    color_files_01 = color_files_01[:int(len(color_files_01) * part_of_dataset)]\n",
    "    gray_files_01 = gray_files_01[:int(len(gray_files_01) * part_of_dataset)]\n",
    "idx_01 = [i for i in range(len(color_files_01))]\n",
    "train_idx_01, val_idx_01 = train_test_split(idx_01, test_size=test_size, random_state=SEED)\n",
    "for i in train_idx_01:\n",
    "    color_files_train.append(color_files_01[i])\n",
    "    gray_files_train.append(gray_files_01[i])\n",
    "for i in val_idx_01:\n",
    "    color_files_val.append(color_files_01[i])\n",
    "    gray_files_val.append(gray_files_01[i])    \n",
    "\n",
    "color_files_02 = sorted(color_folder_02.glob(\"*.jpg\"), key=lambda x: int(x.stem.replace('image', '')))\n",
    "gray_files_02 = sorted(gray_folder_02.glob(\"*.jpg\"), key=lambda x: int(x.stem.replace('image', '')))\n",
    "if DEBUG_MODE:\n",
    "    color_files_02 = color_files_02[:int(len(color_files_02) * part_of_dataset)]\n",
    "    gray_files_02 = gray_files_02[:int(len(gray_files_02) * part_of_dataset)]\n",
    "idx_02 = [i for i in range(len(color_files_02))]\n",
    "train_idx_02, val_idx_02 = train_test_split(idx_02, test_size=test_size, random_state=SEED)\n",
    "for i in train_idx_02:\n",
    "    color_files_train.append(color_files_02[i])\n",
    "    gray_files_train.append(gray_files_02[i])\n",
    "for i in val_idx_02:\n",
    "    color_files_val.append(color_files_02[i])\n",
    "    gray_files_val.append(gray_files_02[i])"
   ]
  },
  {
   "cell_type": "code",
   "execution_count": 21,
   "id": "74f6e8ef",
   "metadata": {},
   "outputs": [
    {
     "name": "stdout",
     "output_type": "stream",
     "text": [
      "color_files_train: (9703,)\n",
      "grey_files_train: (9703,)\n",
      "color_files_test: (2426,)\n",
      "grey_files_test: (2426,)\n"
     ]
    }
   ],
   "source": [
    "print(f'color_files_train: {np.shape(color_files_train)}')\n",
    "print(f'grey_files_train: {np.shape(gray_files_train)}')\n",
    "print(f'color_files_test: {np.shape(color_files_val)}')\n",
    "print(f'grey_files_test: {np.shape(gray_files_val)}')"
   ]
  },
  {
   "cell_type": "markdown",
   "id": "d66f6d93",
   "metadata": {},
   "source": [
    "# Контроль структуры данных"
   ]
  },
  {
   "cell_type": "code",
   "execution_count": 22,
   "id": "313b6749",
   "metadata": {},
   "outputs": [],
   "source": [
    "# проверить наличие каталогов\n",
    "assert Path(extracted_dataset_folder_01).exists()\n",
    "assert Path(gray_folder_01).exists()\n",
    "assert Path(color_folder_01).exists()\n",
    "assert Path(gray_folder_02).exists()\n",
    "assert Path(color_folder_02).exists()\n",
    "assert Path(models_folder).exists()\n",
    "assert Path(output_folder).exists()\n"
   ]
  },
  {
   "cell_type": "markdown",
   "id": "8bbaa47b",
   "metadata": {},
   "source": [
    "# Dataset + DataLoader"
   ]
  },
  {
   "cell_type": "code",
   "execution_count": 23,
   "id": "02c39360",
   "metadata": {},
   "outputs": [],
   "source": [
    "class ColorizationDataset(Dataset):\n",
    "    def __init__(self, color_files, image_size=(400, 400), augment=True):\n",
    "        self.color_files = color_files\n",
    "        self.image_size = image_size\n",
    "        self.augment = augment\n",
    "\n",
    "        # Аугментации\n",
    "        self.spatial_aug = A.Compose([\n",
    "            A.RandomResizedCrop(size=image_size, scale=(0.95, 1.0)),\n",
    "            A.HorizontalFlip(p=0.5),\n",
    "            A.ShiftScaleRotate(shift_limit=0.05, scale_limit=0.1, rotate_limit=15, p=0.5),\n",
    "        ], additional_targets={'image0': 'image'})\n",
    "\n",
    "        self.final_transform = A.Compose([\n",
    "            A.Resize(image_size[0], image_size[1]),\n",
    "            A.Normalize(mean=(0.5, 0.5, 0.5), std=(0.5, 0.5, 0.5)) # Нормализация[-1, 1]\n",
    "        ])\n",
    "\n",
    "    def __len__(self):\n",
    "        return len(self.color_files)\n",
    "\n",
    "    def __getitem__(self, idx):\n",
    "        color_path = self.color_files[idx]\n",
    "        color_image = Image.open(color_path).convert(\"RGB\")\n",
    "        color_image = np.array(color_image)\n",
    "        if self.augment:\n",
    "            transformed = self.spatial_aug(image=color_image)\n",
    "            color_image = transformed[\"image\"]\n",
    "        # Нормализация и преобразование в тензор\n",
    "        color_image = self.final_transform(image=color_image)[\"image\"]\n",
    "        L, ab = utils.RGBTensor_to_LAB(ToTensor()(color_image))\n",
    "        return L, ab"
   ]
  },
  {
   "cell_type": "markdown",
   "id": "0b71d270",
   "metadata": {},
   "source": [
    "# fit()\n"
   ]
  },
  {
   "cell_type": "code",
   "execution_count": 24,
   "id": "3b335bcd",
   "metadata": {},
   "outputs": [],
   "source": [
    "def fit(model, train_loader, val_loader, num_epochs, device, criterion):\n",
    "\n",
    "    optimizer = optim.Adam(model.parameters(), lr=2e-4, betas=(0.5, 0.999))\n",
    "    \n",
    "    scheduler = ReduceLROnPlateau(optimizer, 'min', patience=3)\n",
    "\n",
    "    train_loss_by_epoch = []\n",
    "    val_loss_by_epoch = []\n",
    "\n",
    "    best_train_loss = float('inf')  # Лучший loss по train-criterion\n",
    "    best_val_loss = float('inf')  # Лучший loss по loss-criterion\n",
    "\n",
    "    for epoch in range(num_epochs):\n",
    "        # Training\n",
    "        model.train()\n",
    "        loop = tqdm(train_loader, desc=f\"Epoch {epoch+1}/{num_epochs}\")\n",
    "        train_losses = []\n",
    "        for input_L, target_ab in loop:\n",
    "            input_L = input_L.to(device)\n",
    "            target_ab = target_ab.to(device)\n",
    "\n",
    "            pred_ab = model(input_L)\n",
    "            loss = criterion(pred_ab, target_ab)\n",
    "\n",
    "            optimizer.zero_grad()\n",
    "            loss.backward()\n",
    "            optimizer.step()\n",
    "\n",
    "            loss_item = loss.item()\n",
    "\n",
    "            train_losses.append(loss_item)\n",
    "\n",
    "            loop.set_postfix(loss=loss_item)\n",
    "\n",
    "        avg_train_loss = np.mean(train_losses)\n",
    "        train_loss_by_epoch.append(avg_train_loss)\n",
    "\n",
    "        # Validation\n",
    "        model.eval()\n",
    "        val_losses = []\n",
    "        with torch.inference_mode():\n",
    "            val_bar = tqdm(val_loader, desc=\"Validation\")\n",
    "            for input_L, target_ab in val_bar:\n",
    "                input_L = input_L.to(device)\n",
    "                target_ab = target_ab.to(device)\n",
    "\n",
    "                pred_ab = model(input_L)\n",
    "                loss = criterion(pred_ab, target_ab)\n",
    "                loss_item = loss.item()\n",
    "\n",
    "                val_losses.append(loss_item)\n",
    "                val_bar.set_postfix(loss=loss_item)\n",
    "        avg_val_loss = np.mean(val_losses)\n",
    "        val_loss_by_epoch.append(avg_val_loss)\n",
    "\n",
    "        print(f\"Epoch {epoch+1}/{num_epochs} | \"\n",
    "              f\"Train G Loss: {avg_train_loss:.4f}, Train D Loss: {avg_train_loss:.4f} | \"\n",
    "              f\"Val G Loss: {avg_val_loss:.4f}, Val D Loss: {avg_val_loss:.4f}\")\n",
    "\n",
    "        # LR Scheduling\n",
    "        scheduler.step(avg_val_loss)\n",
    "\n",
    "        # === Сохранение лучшей модели ===\n",
    "        if avg_val_loss < best_val_loss:\n",
    "            best_val_disc_loss = avg_val_loss\n",
    "            fn = utils.model_filename(model, models_folder, \"best_val\")\n",
    "            torch.save(model.state_dict().copy(), fn)\n",
    "            print(f\"Новая лучшая по Validation Discriminator Loss ({best_val_disc_loss:.6f}) модель сохранена в {fn}.\")\n",
    "        if avg_train_loss < best_train_loss:\n",
    "            best_train_loss = avg_train_loss\n",
    "            fn = utils.model_filename(model, models_folder, \"best_train\")\n",
    "            torch.save(model.state_dict().copy(), fn)\n",
    "            print(f\"Новая лучшая по Train Discriminator Loss ({best_train_loss:.6f}) модель сохранена в {fn}.\")\n",
    "\n",
    "        print(\"\")\n",
    "\n",
    "        # === Сохранение чекпоинтов ===\n",
    "        torch.save(model.state_dict(), utils.model_filename(model, models_folder, f'_epoch{epoch+1}'))\n",
    "\n",
    "    return model, train_loss_by_epoch, val_loss_by_epoch"
   ]
  },
  {
   "cell_type": "markdown",
   "id": "34ed7449",
   "metadata": {},
   "source": [
    "# Обучение"
   ]
  },
  {
   "cell_type": "code",
   "execution_count": 25,
   "id": "dd0e6be9",
   "metadata": {},
   "outputs": [
    {
     "name": "stderr",
     "output_type": "stream",
     "text": [
      "/home/igel2/anaconda3/envs/mlgpu/lib/python3.12/site-packages/albumentations/core/validation.py:114: UserWarning: ShiftScaleRotate is a special case of Affine transform. Please use Affine transform instead.\n",
      "  original_init(self, **validated_kwargs)\n"
     ]
    }
   ],
   "source": [
    "train_dataset = ColorizationDataset(color_files_train, augment=True)\n",
    "train_loader = torch.utils.data.DataLoader(train_dataset, batch_size=batch_size, shuffle=True, pin_memory=True, \n",
    "                                           num_workers=num_workers, worker_init_fn=seed_worker)\n",
    "\n",
    "val_dataset = ColorizationDataset(color_files_val, augment=False)\n",
    "val_loader = torch.utils.data.DataLoader(val_dataset, batch_size=batch_size, shuffle=True, pin_memory=True, \n",
    "                                           num_workers=num_workers, worker_init_fn=seed_worker)"
   ]
  },
  {
   "cell_type": "code",
   "execution_count": 26,
   "id": "eebce5d3",
   "metadata": {},
   "outputs": [
    {
     "name": "stderr",
     "output_type": "stream",
     "text": [
      "Epoch 1/50: 100%|██████████| 607/607 [04:40<00:00,  2.16it/s, loss=0.0409]\n",
      "Validation: 100%|██████████| 152/152 [00:21<00:00,  6.96it/s, loss=0.0191]\n"
     ]
    },
    {
     "name": "stdout",
     "output_type": "stream",
     "text": [
      "Epoch 1/50 | Train G Loss: 0.0279, Train D Loss: 0.0279 | Val G Loss: 0.0274, Val D Loss: 0.0274\n",
      "Новая лучшая по Validation Discriminator Loss (0.027405) модель сохранена в /home/igel2/Projects/ml_final/models/ColorizationModel_best_val.pth.\n",
      "Новая лучшая по Train Discriminator Loss (0.027895) модель сохранена в /home/igel2/Projects/ml_final/models/ColorizationModel_best_train.pth.\n",
      "\n"
     ]
    },
    {
     "name": "stderr",
     "output_type": "stream",
     "text": [
      "Epoch 2/50: 100%|██████████| 607/607 [04:37<00:00,  2.19it/s, loss=0.0461]\n",
      "Validation: 100%|██████████| 152/152 [00:22<00:00,  6.62it/s, loss=0.0218]\n"
     ]
    },
    {
     "name": "stdout",
     "output_type": "stream",
     "text": [
      "Epoch 2/50 | Train G Loss: 0.0243, Train D Loss: 0.0243 | Val G Loss: 0.0283, Val D Loss: 0.0283\n",
      "Новая лучшая по Validation Discriminator Loss (0.028343) модель сохранена в /home/igel2/Projects/ml_final/models/ColorizationModel_best_val.pth.\n",
      "Новая лучшая по Train Discriminator Loss (0.024285) модель сохранена в /home/igel2/Projects/ml_final/models/ColorizationModel_best_train.pth.\n",
      "\n"
     ]
    },
    {
     "name": "stderr",
     "output_type": "stream",
     "text": [
      "Epoch 3/50: 100%|██████████| 607/607 [04:38<00:00,  2.18it/s, loss=0.00886]\n",
      "Validation: 100%|██████████| 152/152 [00:21<00:00,  7.02it/s, loss=0.0347]\n"
     ]
    },
    {
     "name": "stdout",
     "output_type": "stream",
     "text": [
      "Epoch 3/50 | Train G Loss: 0.0227, Train D Loss: 0.0227 | Val G Loss: 0.0246, Val D Loss: 0.0246\n",
      "Новая лучшая по Validation Discriminator Loss (0.024597) модель сохранена в /home/igel2/Projects/ml_final/models/ColorizationModel_best_val.pth.\n",
      "Новая лучшая по Train Discriminator Loss (0.022700) модель сохранена в /home/igel2/Projects/ml_final/models/ColorizationModel_best_train.pth.\n",
      "\n"
     ]
    },
    {
     "name": "stderr",
     "output_type": "stream",
     "text": [
      "Epoch 4/50: 100%|██████████| 607/607 [04:37<00:00,  2.19it/s, loss=0.0145] \n",
      "Validation: 100%|██████████| 152/152 [00:21<00:00,  6.96it/s, loss=0.0253]\n"
     ]
    },
    {
     "name": "stdout",
     "output_type": "stream",
     "text": [
      "Epoch 4/50 | Train G Loss: 0.0214, Train D Loss: 0.0214 | Val G Loss: 0.0247, Val D Loss: 0.0247\n",
      "Новая лучшая по Validation Discriminator Loss (0.024694) модель сохранена в /home/igel2/Projects/ml_final/models/ColorizationModel_best_val.pth.\n",
      "Новая лучшая по Train Discriminator Loss (0.021393) модель сохранена в /home/igel2/Projects/ml_final/models/ColorizationModel_best_train.pth.\n",
      "\n"
     ]
    },
    {
     "name": "stderr",
     "output_type": "stream",
     "text": [
      "Epoch 5/50: 100%|██████████| 607/607 [04:37<00:00,  2.18it/s, loss=0.0189] \n",
      "Validation: 100%|██████████| 152/152 [00:23<00:00,  6.58it/s, loss=0.0375]\n"
     ]
    },
    {
     "name": "stdout",
     "output_type": "stream",
     "text": [
      "Epoch 5/50 | Train G Loss: 0.0197, Train D Loss: 0.0197 | Val G Loss: 0.0234, Val D Loss: 0.0234\n",
      "Новая лучшая по Validation Discriminator Loss (0.023439) модель сохранена в /home/igel2/Projects/ml_final/models/ColorizationModel_best_val.pth.\n",
      "Новая лучшая по Train Discriminator Loss (0.019742) модель сохранена в /home/igel2/Projects/ml_final/models/ColorizationModel_best_train.pth.\n",
      "\n"
     ]
    },
    {
     "name": "stderr",
     "output_type": "stream",
     "text": [
      "Epoch 6/50: 100%|██████████| 607/607 [04:46<00:00,  2.12it/s, loss=0.00806]\n",
      "Validation: 100%|██████████| 152/152 [00:22<00:00,  6.84it/s, loss=0.0233]\n"
     ]
    },
    {
     "name": "stdout",
     "output_type": "stream",
     "text": [
      "Epoch 6/50 | Train G Loss: 0.0187, Train D Loss: 0.0187 | Val G Loss: 0.0238, Val D Loss: 0.0238\n",
      "Новая лучшая по Validation Discriminator Loss (0.023756) модель сохранена в /home/igel2/Projects/ml_final/models/ColorizationModel_best_val.pth.\n",
      "Новая лучшая по Train Discriminator Loss (0.018650) модель сохранена в /home/igel2/Projects/ml_final/models/ColorizationModel_best_train.pth.\n",
      "\n"
     ]
    },
    {
     "name": "stderr",
     "output_type": "stream",
     "text": [
      "Epoch 7/50: 100%|██████████| 607/607 [04:43<00:00,  2.14it/s, loss=0.0123] \n",
      "Validation: 100%|██████████| 152/152 [00:22<00:00,  6.82it/s, loss=0.0226]\n"
     ]
    },
    {
     "name": "stdout",
     "output_type": "stream",
     "text": [
      "Epoch 7/50 | Train G Loss: 0.0176, Train D Loss: 0.0176 | Val G Loss: 0.0243, Val D Loss: 0.0243\n",
      "Новая лучшая по Validation Discriminator Loss (0.024292) модель сохранена в /home/igel2/Projects/ml_final/models/ColorizationModel_best_val.pth.\n",
      "Новая лучшая по Train Discriminator Loss (0.017584) модель сохранена в /home/igel2/Projects/ml_final/models/ColorizationModel_best_train.pth.\n",
      "\n"
     ]
    },
    {
     "name": "stderr",
     "output_type": "stream",
     "text": [
      "Epoch 8/50: 100%|██████████| 607/607 [04:42<00:00,  2.15it/s, loss=0.013]  \n",
      "Validation: 100%|██████████| 152/152 [00:22<00:00,  6.80it/s, loss=0.0182]\n"
     ]
    },
    {
     "name": "stdout",
     "output_type": "stream",
     "text": [
      "Epoch 8/50 | Train G Loss: 0.0168, Train D Loss: 0.0168 | Val G Loss: 0.0231, Val D Loss: 0.0231\n",
      "Новая лучшая по Validation Discriminator Loss (0.023148) модель сохранена в /home/igel2/Projects/ml_final/models/ColorizationModel_best_val.pth.\n",
      "Новая лучшая по Train Discriminator Loss (0.016833) модель сохранена в /home/igel2/Projects/ml_final/models/ColorizationModel_best_train.pth.\n",
      "\n"
     ]
    },
    {
     "name": "stderr",
     "output_type": "stream",
     "text": [
      "Epoch 9/50: 100%|██████████| 607/607 [04:43<00:00,  2.14it/s, loss=0.014]  \n",
      "Validation: 100%|██████████| 152/152 [00:23<00:00,  6.60it/s, loss=0.0211]\n"
     ]
    },
    {
     "name": "stdout",
     "output_type": "stream",
     "text": [
      "Epoch 9/50 | Train G Loss: 0.0160, Train D Loss: 0.0160 | Val G Loss: 0.0225, Val D Loss: 0.0225\n",
      "Новая лучшая по Validation Discriminator Loss (0.022504) модель сохранена в /home/igel2/Projects/ml_final/models/ColorizationModel_best_val.pth.\n",
      "Новая лучшая по Train Discriminator Loss (0.015969) модель сохранена в /home/igel2/Projects/ml_final/models/ColorizationModel_best_train.pth.\n",
      "\n"
     ]
    },
    {
     "name": "stderr",
     "output_type": "stream",
     "text": [
      "Epoch 10/50: 100%|██████████| 607/607 [04:42<00:00,  2.15it/s, loss=0.01]   \n",
      "Validation: 100%|██████████| 152/152 [00:22<00:00,  6.75it/s, loss=0.0377]\n"
     ]
    },
    {
     "name": "stdout",
     "output_type": "stream",
     "text": [
      "Epoch 10/50 | Train G Loss: 0.0152, Train D Loss: 0.0152 | Val G Loss: 0.0219, Val D Loss: 0.0219\n",
      "Новая лучшая по Validation Discriminator Loss (0.021915) модель сохранена в /home/igel2/Projects/ml_final/models/ColorizationModel_best_val.pth.\n",
      "Новая лучшая по Train Discriminator Loss (0.015218) модель сохранена в /home/igel2/Projects/ml_final/models/ColorizationModel_best_train.pth.\n",
      "\n"
     ]
    },
    {
     "name": "stderr",
     "output_type": "stream",
     "text": [
      "Epoch 11/50: 100%|██████████| 607/607 [04:42<00:00,  2.15it/s, loss=0.0128] \n",
      "Validation: 100%|██████████| 152/152 [00:22<00:00,  6.76it/s, loss=0.0304]\n"
     ]
    },
    {
     "name": "stdout",
     "output_type": "stream",
     "text": [
      "Epoch 11/50 | Train G Loss: 0.0145, Train D Loss: 0.0145 | Val G Loss: 0.0215, Val D Loss: 0.0215\n",
      "Новая лучшая по Validation Discriminator Loss (0.021482) модель сохранена в /home/igel2/Projects/ml_final/models/ColorizationModel_best_val.pth.\n",
      "Новая лучшая по Train Discriminator Loss (0.014536) модель сохранена в /home/igel2/Projects/ml_final/models/ColorizationModel_best_train.pth.\n",
      "\n"
     ]
    },
    {
     "name": "stderr",
     "output_type": "stream",
     "text": [
      "Epoch 12/50: 100%|██████████| 607/607 [04:43<00:00,  2.14it/s, loss=0.00886]\n",
      "Validation: 100%|██████████| 152/152 [00:22<00:00,  6.76it/s, loss=0.0231] \n"
     ]
    },
    {
     "name": "stdout",
     "output_type": "stream",
     "text": [
      "Epoch 12/50 | Train G Loss: 0.0142, Train D Loss: 0.0142 | Val G Loss: 0.0213, Val D Loss: 0.0213\n",
      "Новая лучшая по Validation Discriminator Loss (0.021305) модель сохранена в /home/igel2/Projects/ml_final/models/ColorizationModel_best_val.pth.\n",
      "Новая лучшая по Train Discriminator Loss (0.014220) модель сохранена в /home/igel2/Projects/ml_final/models/ColorizationModel_best_train.pth.\n",
      "\n"
     ]
    },
    {
     "name": "stderr",
     "output_type": "stream",
     "text": [
      "Epoch 13/50: 100%|██████████| 607/607 [04:43<00:00,  2.14it/s, loss=0.0263] \n",
      "Validation: 100%|██████████| 152/152 [00:22<00:00,  6.74it/s, loss=0.0207]\n"
     ]
    },
    {
     "name": "stdout",
     "output_type": "stream",
     "text": [
      "Epoch 13/50 | Train G Loss: 0.0135, Train D Loss: 0.0135 | Val G Loss: 0.0227, Val D Loss: 0.0227\n",
      "Новая лучшая по Validation Discriminator Loss (0.022741) модель сохранена в /home/igel2/Projects/ml_final/models/ColorizationModel_best_val.pth.\n",
      "Новая лучшая по Train Discriminator Loss (0.013453) модель сохранена в /home/igel2/Projects/ml_final/models/ColorizationModel_best_train.pth.\n",
      "\n"
     ]
    },
    {
     "name": "stderr",
     "output_type": "stream",
     "text": [
      "Epoch 14/50: 100%|██████████| 607/607 [04:43<00:00,  2.14it/s, loss=0.0108] \n",
      "Validation: 100%|██████████| 152/152 [00:22<00:00,  6.73it/s, loss=0.0926]\n"
     ]
    },
    {
     "name": "stdout",
     "output_type": "stream",
     "text": [
      "Epoch 14/50 | Train G Loss: 0.0129, Train D Loss: 0.0129 | Val G Loss: 0.0224, Val D Loss: 0.0224\n",
      "Новая лучшая по Validation Discriminator Loss (0.022361) модель сохранена в /home/igel2/Projects/ml_final/models/ColorizationModel_best_val.pth.\n",
      "Новая лучшая по Train Discriminator Loss (0.012874) модель сохранена в /home/igel2/Projects/ml_final/models/ColorizationModel_best_train.pth.\n",
      "\n"
     ]
    },
    {
     "name": "stderr",
     "output_type": "stream",
     "text": [
      "Epoch 15/50: 100%|██████████| 607/607 [04:42<00:00,  2.15it/s, loss=0.0112] \n",
      "Validation: 100%|██████████| 152/152 [00:22<00:00,  6.74it/s, loss=0.0207]\n"
     ]
    },
    {
     "name": "stdout",
     "output_type": "stream",
     "text": [
      "Epoch 15/50 | Train G Loss: 0.0125, Train D Loss: 0.0125 | Val G Loss: 0.0212, Val D Loss: 0.0212\n",
      "Новая лучшая по Validation Discriminator Loss (0.021211) модель сохранена в /home/igel2/Projects/ml_final/models/ColorizationModel_best_val.pth.\n",
      "Новая лучшая по Train Discriminator Loss (0.012487) модель сохранена в /home/igel2/Projects/ml_final/models/ColorizationModel_best_train.pth.\n",
      "\n"
     ]
    },
    {
     "name": "stderr",
     "output_type": "stream",
     "text": [
      "Epoch 16/50: 100%|██████████| 607/607 [04:43<00:00,  2.14it/s, loss=0.0181] \n",
      "Validation: 100%|██████████| 152/152 [00:22<00:00,  6.74it/s, loss=0.0129] \n"
     ]
    },
    {
     "name": "stdout",
     "output_type": "stream",
     "text": [
      "Epoch 16/50 | Train G Loss: 0.0120, Train D Loss: 0.0120 | Val G Loss: 0.0211, Val D Loss: 0.0211\n",
      "Новая лучшая по Validation Discriminator Loss (0.021126) модель сохранена в /home/igel2/Projects/ml_final/models/ColorizationModel_best_val.pth.\n",
      "Новая лучшая по Train Discriminator Loss (0.012043) модель сохранена в /home/igel2/Projects/ml_final/models/ColorizationModel_best_train.pth.\n",
      "\n"
     ]
    },
    {
     "name": "stderr",
     "output_type": "stream",
     "text": [
      "Epoch 17/50: 100%|██████████| 607/607 [04:42<00:00,  2.15it/s, loss=0.00722]\n",
      "Validation: 100%|██████████| 152/152 [00:22<00:00,  6.72it/s, loss=0.0193]\n"
     ]
    },
    {
     "name": "stdout",
     "output_type": "stream",
     "text": [
      "Epoch 17/50 | Train G Loss: 0.0117, Train D Loss: 0.0117 | Val G Loss: 0.0217, Val D Loss: 0.0217\n",
      "Новая лучшая по Validation Discriminator Loss (0.021703) модель сохранена в /home/igel2/Projects/ml_final/models/ColorizationModel_best_val.pth.\n",
      "Новая лучшая по Train Discriminator Loss (0.011682) модель сохранена в /home/igel2/Projects/ml_final/models/ColorizationModel_best_train.pth.\n",
      "\n"
     ]
    },
    {
     "name": "stderr",
     "output_type": "stream",
     "text": [
      "Epoch 18/50: 100%|██████████| 607/607 [04:43<00:00,  2.14it/s, loss=0.0184] \n",
      "Validation: 100%|██████████| 152/152 [00:22<00:00,  6.74it/s, loss=0.0297]\n"
     ]
    },
    {
     "name": "stdout",
     "output_type": "stream",
     "text": [
      "Epoch 18/50 | Train G Loss: 0.0112, Train D Loss: 0.0112 | Val G Loss: 0.0224, Val D Loss: 0.0224\n",
      "Новая лучшая по Validation Discriminator Loss (0.022435) модель сохранена в /home/igel2/Projects/ml_final/models/ColorizationModel_best_val.pth.\n",
      "Новая лучшая по Train Discriminator Loss (0.011248) модель сохранена в /home/igel2/Projects/ml_final/models/ColorizationModel_best_train.pth.\n",
      "\n"
     ]
    },
    {
     "name": "stderr",
     "output_type": "stream",
     "text": [
      "Epoch 19/50: 100%|██████████| 607/607 [04:44<00:00,  2.14it/s, loss=0.0179] \n",
      "Validation: 100%|██████████| 152/152 [00:23<00:00,  6.50it/s, loss=0.0221]\n"
     ]
    },
    {
     "name": "stdout",
     "output_type": "stream",
     "text": [
      "Epoch 19/50 | Train G Loss: 0.0112, Train D Loss: 0.0112 | Val G Loss: 0.0234, Val D Loss: 0.0234\n",
      "Новая лучшая по Validation Discriminator Loss (0.023408) модель сохранена в /home/igel2/Projects/ml_final/models/ColorizationModel_best_val.pth.\n",
      "Новая лучшая по Train Discriminator Loss (0.011156) модель сохранена в /home/igel2/Projects/ml_final/models/ColorizationModel_best_train.pth.\n",
      "\n"
     ]
    },
    {
     "name": "stderr",
     "output_type": "stream",
     "text": [
      "Epoch 20/50: 100%|██████████| 607/607 [04:35<00:00,  2.20it/s, loss=0.0122] \n",
      "Validation: 100%|██████████| 152/152 [00:21<00:00,  6.92it/s, loss=0.0325]\n"
     ]
    },
    {
     "name": "stdout",
     "output_type": "stream",
     "text": [
      "Epoch 20/50 | Train G Loss: 0.0107, Train D Loss: 0.0107 | Val G Loss: 0.0230, Val D Loss: 0.0230\n",
      "Новая лучшая по Validation Discriminator Loss (0.023008) модель сохранена в /home/igel2/Projects/ml_final/models/ColorizationModel_best_val.pth.\n",
      "Новая лучшая по Train Discriminator Loss (0.010719) модель сохранена в /home/igel2/Projects/ml_final/models/ColorizationModel_best_train.pth.\n",
      "\n"
     ]
    },
    {
     "name": "stderr",
     "output_type": "stream",
     "text": [
      "Epoch 21/50: 100%|██████████| 607/607 [04:35<00:00,  2.20it/s, loss=0.00861]\n",
      "Validation: 100%|██████████| 152/152 [00:21<00:00,  6.92it/s, loss=0.0215]\n"
     ]
    },
    {
     "name": "stdout",
     "output_type": "stream",
     "text": [
      "Epoch 21/50 | Train G Loss: 0.0097, Train D Loss: 0.0097 | Val G Loss: 0.0199, Val D Loss: 0.0199\n",
      "Новая лучшая по Validation Discriminator Loss (0.019872) модель сохранена в /home/igel2/Projects/ml_final/models/ColorizationModel_best_val.pth.\n",
      "Новая лучшая по Train Discriminator Loss (0.009652) модель сохранена в /home/igel2/Projects/ml_final/models/ColorizationModel_best_train.pth.\n",
      "\n"
     ]
    },
    {
     "name": "stderr",
     "output_type": "stream",
     "text": [
      "Epoch 22/50: 100%|██████████| 607/607 [04:35<00:00,  2.20it/s, loss=0.00929]\n",
      "Validation: 100%|██████████| 152/152 [00:21<00:00,  6.92it/s, loss=0.0188] \n"
     ]
    },
    {
     "name": "stdout",
     "output_type": "stream",
     "text": [
      "Epoch 22/50 | Train G Loss: 0.0092, Train D Loss: 0.0092 | Val G Loss: 0.0199, Val D Loss: 0.0199\n",
      "Новая лучшая по Validation Discriminator Loss (0.019891) модель сохранена в /home/igel2/Projects/ml_final/models/ColorizationModel_best_val.pth.\n",
      "Новая лучшая по Train Discriminator Loss (0.009151) модель сохранена в /home/igel2/Projects/ml_final/models/ColorizationModel_best_train.pth.\n",
      "\n"
     ]
    },
    {
     "name": "stderr",
     "output_type": "stream",
     "text": [
      "Epoch 23/50: 100%|██████████| 607/607 [04:35<00:00,  2.20it/s, loss=0.00643]\n",
      "Validation: 100%|██████████| 152/152 [00:21<00:00,  6.92it/s, loss=0.0166] \n"
     ]
    },
    {
     "name": "stdout",
     "output_type": "stream",
     "text": [
      "Epoch 23/50 | Train G Loss: 0.0089, Train D Loss: 0.0089 | Val G Loss: 0.0199, Val D Loss: 0.0199\n",
      "Новая лучшая по Validation Discriminator Loss (0.019855) модель сохранена в /home/igel2/Projects/ml_final/models/ColorizationModel_best_val.pth.\n",
      "Новая лучшая по Train Discriminator Loss (0.008927) модель сохранена в /home/igel2/Projects/ml_final/models/ColorizationModel_best_train.pth.\n",
      "\n"
     ]
    },
    {
     "name": "stderr",
     "output_type": "stream",
     "text": [
      "Epoch 24/50: 100%|██████████| 607/607 [04:35<00:00,  2.20it/s, loss=0.00752]\n",
      "Validation: 100%|██████████| 152/152 [00:21<00:00,  6.93it/s, loss=0.0165]\n"
     ]
    },
    {
     "name": "stdout",
     "output_type": "stream",
     "text": [
      "Epoch 24/50 | Train G Loss: 0.0087, Train D Loss: 0.0087 | Val G Loss: 0.0199, Val D Loss: 0.0199\n",
      "Новая лучшая по Validation Discriminator Loss (0.019863) модель сохранена в /home/igel2/Projects/ml_final/models/ColorizationModel_best_val.pth.\n",
      "Новая лучшая по Train Discriminator Loss (0.008731) модель сохранена в /home/igel2/Projects/ml_final/models/ColorizationModel_best_train.pth.\n",
      "\n"
     ]
    },
    {
     "name": "stderr",
     "output_type": "stream",
     "text": [
      "Epoch 25/50: 100%|██████████| 607/607 [04:39<00:00,  2.17it/s, loss=0.0167] \n",
      "Validation: 100%|██████████| 152/152 [00:21<00:00,  6.92it/s, loss=0.0187]\n"
     ]
    },
    {
     "name": "stdout",
     "output_type": "stream",
     "text": [
      "Epoch 25/50 | Train G Loss: 0.0086, Train D Loss: 0.0086 | Val G Loss: 0.0199, Val D Loss: 0.0199\n",
      "Новая лучшая по Validation Discriminator Loss (0.019872) модель сохранена в /home/igel2/Projects/ml_final/models/ColorizationModel_best_val.pth.\n",
      "Новая лучшая по Train Discriminator Loss (0.008617) модель сохранена в /home/igel2/Projects/ml_final/models/ColorizationModel_best_train.pth.\n",
      "\n"
     ]
    },
    {
     "name": "stderr",
     "output_type": "stream",
     "text": [
      "Epoch 26/50: 100%|██████████| 607/607 [04:35<00:00,  2.20it/s, loss=0.0128] \n",
      "Validation: 100%|██████████| 152/152 [00:22<00:00,  6.87it/s, loss=0.0283]\n"
     ]
    },
    {
     "name": "stdout",
     "output_type": "stream",
     "text": [
      "Epoch 26/50 | Train G Loss: 0.0085, Train D Loss: 0.0085 | Val G Loss: 0.0200, Val D Loss: 0.0200\n",
      "Новая лучшая по Validation Discriminator Loss (0.020025) модель сохранена в /home/igel2/Projects/ml_final/models/ColorizationModel_best_val.pth.\n",
      "Новая лучшая по Train Discriminator Loss (0.008522) модель сохранена в /home/igel2/Projects/ml_final/models/ColorizationModel_best_train.pth.\n",
      "\n"
     ]
    },
    {
     "name": "stderr",
     "output_type": "stream",
     "text": [
      "Epoch 27/50: 100%|██████████| 607/607 [04:36<00:00,  2.20it/s, loss=0.00836]\n",
      "Validation: 100%|██████████| 152/152 [00:22<00:00,  6.85it/s, loss=0.0397]\n"
     ]
    },
    {
     "name": "stdout",
     "output_type": "stream",
     "text": [
      "Epoch 27/50 | Train G Loss: 0.0084, Train D Loss: 0.0084 | Val G Loss: 0.0198, Val D Loss: 0.0198\n",
      "Новая лучшая по Validation Discriminator Loss (0.019839) модель сохранена в /home/igel2/Projects/ml_final/models/ColorizationModel_best_val.pth.\n",
      "Новая лучшая по Train Discriminator Loss (0.008382) модель сохранена в /home/igel2/Projects/ml_final/models/ColorizationModel_best_train.pth.\n",
      "\n"
     ]
    },
    {
     "name": "stderr",
     "output_type": "stream",
     "text": [
      "Epoch 28/50: 100%|██████████| 607/607 [04:37<00:00,  2.19it/s, loss=0.00884]\n",
      "Validation: 100%|██████████| 152/152 [00:22<00:00,  6.88it/s, loss=0.0165] \n"
     ]
    },
    {
     "name": "stdout",
     "output_type": "stream",
     "text": [
      "Epoch 28/50 | Train G Loss: 0.0083, Train D Loss: 0.0083 | Val G Loss: 0.0199, Val D Loss: 0.0199\n",
      "Новая лучшая по Validation Discriminator Loss (0.019869) модель сохранена в /home/igel2/Projects/ml_final/models/ColorizationModel_best_val.pth.\n",
      "Новая лучшая по Train Discriminator Loss (0.008302) модель сохранена в /home/igel2/Projects/ml_final/models/ColorizationModel_best_train.pth.\n",
      "\n"
     ]
    },
    {
     "name": "stderr",
     "output_type": "stream",
     "text": [
      "Epoch 29/50: 100%|██████████| 607/607 [04:39<00:00,  2.17it/s, loss=0.00707]\n",
      "Validation: 100%|██████████| 152/152 [00:21<00:00,  6.92it/s, loss=0.0196]\n"
     ]
    },
    {
     "name": "stdout",
     "output_type": "stream",
     "text": [
      "Epoch 29/50 | Train G Loss: 0.0082, Train D Loss: 0.0082 | Val G Loss: 0.0198, Val D Loss: 0.0198\n",
      "Новая лучшая по Validation Discriminator Loss (0.019798) модель сохранена в /home/igel2/Projects/ml_final/models/ColorizationModel_best_val.pth.\n",
      "Новая лучшая по Train Discriminator Loss (0.008186) модель сохранена в /home/igel2/Projects/ml_final/models/ColorizationModel_best_train.pth.\n",
      "\n"
     ]
    },
    {
     "name": "stderr",
     "output_type": "stream",
     "text": [
      "Epoch 30/50: 100%|██████████| 607/607 [04:40<00:00,  2.16it/s, loss=0.00502]\n",
      "Validation: 100%|██████████| 152/152 [00:22<00:00,  6.75it/s, loss=0.0373]\n"
     ]
    },
    {
     "name": "stdout",
     "output_type": "stream",
     "text": [
      "Epoch 30/50 | Train G Loss: 0.0081, Train D Loss: 0.0081 | Val G Loss: 0.0199, Val D Loss: 0.0199\n",
      "Новая лучшая по Validation Discriminator Loss (0.019890) модель сохранена в /home/igel2/Projects/ml_final/models/ColorizationModel_best_val.pth.\n",
      "Новая лучшая по Train Discriminator Loss (0.008113) модель сохранена в /home/igel2/Projects/ml_final/models/ColorizationModel_best_train.pth.\n",
      "\n"
     ]
    },
    {
     "name": "stderr",
     "output_type": "stream",
     "text": [
      "Epoch 31/50: 100%|██████████| 607/607 [04:41<00:00,  2.16it/s, loss=0.0105] \n",
      "Validation: 100%|██████████| 152/152 [00:22<00:00,  6.78it/s, loss=0.0164] \n"
     ]
    },
    {
     "name": "stdout",
     "output_type": "stream",
     "text": [
      "Epoch 31/50 | Train G Loss: 0.0080, Train D Loss: 0.0080 | Val G Loss: 0.0199, Val D Loss: 0.0199\n",
      "Новая лучшая по Validation Discriminator Loss (0.019911) модель сохранена в /home/igel2/Projects/ml_final/models/ColorizationModel_best_val.pth.\n",
      "Новая лучшая по Train Discriminator Loss (0.008046) модель сохранена в /home/igel2/Projects/ml_final/models/ColorizationModel_best_train.pth.\n",
      "\n"
     ]
    },
    {
     "name": "stderr",
     "output_type": "stream",
     "text": [
      "Epoch 32/50: 100%|██████████| 607/607 [04:43<00:00,  2.14it/s, loss=0.00552]\n",
      "Validation: 100%|██████████| 152/152 [00:22<00:00,  6.73it/s, loss=0.0273] \n"
     ]
    },
    {
     "name": "stdout",
     "output_type": "stream",
     "text": [
      "Epoch 32/50 | Train G Loss: 0.0080, Train D Loss: 0.0080 | Val G Loss: 0.0199, Val D Loss: 0.0199\n",
      "Новая лучшая по Validation Discriminator Loss (0.019915) модель сохранена в /home/igel2/Projects/ml_final/models/ColorizationModel_best_val.pth.\n",
      "Новая лучшая по Train Discriminator Loss (0.007955) модель сохранена в /home/igel2/Projects/ml_final/models/ColorizationModel_best_train.pth.\n",
      "\n"
     ]
    },
    {
     "name": "stderr",
     "output_type": "stream",
     "text": [
      "Epoch 33/50: 100%|██████████| 607/607 [04:38<00:00,  2.18it/s, loss=0.00739]\n",
      "Validation: 100%|██████████| 152/152 [00:22<00:00,  6.87it/s, loss=0.0152]\n"
     ]
    },
    {
     "name": "stdout",
     "output_type": "stream",
     "text": [
      "Epoch 33/50 | Train G Loss: 0.0079, Train D Loss: 0.0079 | Val G Loss: 0.0199, Val D Loss: 0.0199\n",
      "Новая лучшая по Validation Discriminator Loss (0.019913) модель сохранена в /home/igel2/Projects/ml_final/models/ColorizationModel_best_val.pth.\n",
      "Новая лучшая по Train Discriminator Loss (0.007886) модель сохранена в /home/igel2/Projects/ml_final/models/ColorizationModel_best_train.pth.\n",
      "\n"
     ]
    },
    {
     "name": "stderr",
     "output_type": "stream",
     "text": [
      "Epoch 34/50: 100%|██████████| 607/607 [04:43<00:00,  2.14it/s, loss=0.00501]\n",
      "Validation: 100%|██████████| 152/152 [00:22<00:00,  6.79it/s, loss=0.0294]\n"
     ]
    },
    {
     "name": "stdout",
     "output_type": "stream",
     "text": [
      "Epoch 34/50 | Train G Loss: 0.0078, Train D Loss: 0.0078 | Val G Loss: 0.0199, Val D Loss: 0.0199\n",
      "Новая лучшая по Validation Discriminator Loss (0.019896) модель сохранена в /home/igel2/Projects/ml_final/models/ColorizationModel_best_val.pth.\n",
      "Новая лучшая по Train Discriminator Loss (0.007784) модель сохранена в /home/igel2/Projects/ml_final/models/ColorizationModel_best_train.pth.\n",
      "\n"
     ]
    },
    {
     "name": "stderr",
     "output_type": "stream",
     "text": [
      "Epoch 35/50: 100%|██████████| 607/607 [04:40<00:00,  2.16it/s, loss=0.0105] \n",
      "Validation: 100%|██████████| 152/152 [00:22<00:00,  6.87it/s, loss=0.0205]\n"
     ]
    },
    {
     "name": "stdout",
     "output_type": "stream",
     "text": [
      "Epoch 35/50 | Train G Loss: 0.0077, Train D Loss: 0.0077 | Val G Loss: 0.0199, Val D Loss: 0.0199\n",
      "Новая лучшая по Validation Discriminator Loss (0.019948) модель сохранена в /home/igel2/Projects/ml_final/models/ColorizationModel_best_val.pth.\n",
      "Новая лучшая по Train Discriminator Loss (0.007728) модель сохранена в /home/igel2/Projects/ml_final/models/ColorizationModel_best_train.pth.\n",
      "\n"
     ]
    },
    {
     "name": "stderr",
     "output_type": "stream",
     "text": [
      "Epoch 36/50: 100%|██████████| 607/607 [04:41<00:00,  2.15it/s, loss=0.0104] \n",
      "Validation: 100%|██████████| 152/152 [00:22<00:00,  6.81it/s, loss=0.0173]\n"
     ]
    },
    {
     "name": "stdout",
     "output_type": "stream",
     "text": [
      "Epoch 36/50 | Train G Loss: 0.0077, Train D Loss: 0.0077 | Val G Loss: 0.0198, Val D Loss: 0.0198\n",
      "Новая лучшая по Validation Discriminator Loss (0.019819) модель сохранена в /home/igel2/Projects/ml_final/models/ColorizationModel_best_val.pth.\n",
      "Новая лучшая по Train Discriminator Loss (0.007709) модель сохранена в /home/igel2/Projects/ml_final/models/ColorizationModel_best_train.pth.\n",
      "\n"
     ]
    },
    {
     "name": "stderr",
     "output_type": "stream",
     "text": [
      "Epoch 37/50: 100%|██████████| 607/607 [04:38<00:00,  2.18it/s, loss=0.00758]\n",
      "Validation: 100%|██████████| 152/152 [00:22<00:00,  6.88it/s, loss=0.13]   \n"
     ]
    },
    {
     "name": "stdout",
     "output_type": "stream",
     "text": [
      "Epoch 37/50 | Train G Loss: 0.0077, Train D Loss: 0.0077 | Val G Loss: 0.0202, Val D Loss: 0.0202\n",
      "Новая лучшая по Validation Discriminator Loss (0.020188) модель сохранена в /home/igel2/Projects/ml_final/models/ColorizationModel_best_val.pth.\n",
      "\n"
     ]
    },
    {
     "name": "stderr",
     "output_type": "stream",
     "text": [
      "Epoch 38/50: 100%|██████████| 607/607 [04:38<00:00,  2.18it/s, loss=0.0108] \n",
      "Validation: 100%|██████████| 152/152 [00:22<00:00,  6.83it/s, loss=0.0172] \n"
     ]
    },
    {
     "name": "stdout",
     "output_type": "stream",
     "text": [
      "Epoch 38/50 | Train G Loss: 0.0077, Train D Loss: 0.0077 | Val G Loss: 0.0199, Val D Loss: 0.0199\n",
      "Новая лучшая по Validation Discriminator Loss (0.019894) модель сохранена в /home/igel2/Projects/ml_final/models/ColorizationModel_best_val.pth.\n",
      "Новая лучшая по Train Discriminator Loss (0.007697) модель сохранена в /home/igel2/Projects/ml_final/models/ColorizationModel_best_train.pth.\n",
      "\n"
     ]
    },
    {
     "name": "stderr",
     "output_type": "stream",
     "text": [
      "Epoch 39/50: 100%|██████████| 607/607 [04:42<00:00,  2.15it/s, loss=0.00851]\n",
      "Validation: 100%|██████████| 152/152 [00:22<00:00,  6.77it/s, loss=0.0172]\n"
     ]
    },
    {
     "name": "stdout",
     "output_type": "stream",
     "text": [
      "Epoch 39/50 | Train G Loss: 0.0077, Train D Loss: 0.0077 | Val G Loss: 0.0199, Val D Loss: 0.0199\n",
      "Новая лучшая по Validation Discriminator Loss (0.019879) модель сохранена в /home/igel2/Projects/ml_final/models/ColorizationModel_best_val.pth.\n",
      "\n"
     ]
    },
    {
     "name": "stderr",
     "output_type": "stream",
     "text": [
      "Epoch 40/50: 100%|██████████| 607/607 [04:41<00:00,  2.15it/s, loss=0.0103] \n",
      "Validation: 100%|██████████| 152/152 [00:22<00:00,  6.89it/s, loss=0.0185]\n"
     ]
    },
    {
     "name": "stdout",
     "output_type": "stream",
     "text": [
      "Epoch 40/50 | Train G Loss: 0.0077, Train D Loss: 0.0077 | Val G Loss: 0.0199, Val D Loss: 0.0199\n",
      "Новая лучшая по Validation Discriminator Loss (0.019870) модель сохранена в /home/igel2/Projects/ml_final/models/ColorizationModel_best_val.pth.\n",
      "\n"
     ]
    },
    {
     "name": "stderr",
     "output_type": "stream",
     "text": [
      "Epoch 41/50: 100%|██████████| 607/607 [04:36<00:00,  2.20it/s, loss=0.0069] \n",
      "Validation: 100%|██████████| 152/152 [00:21<00:00,  6.92it/s, loss=0.0141]\n"
     ]
    },
    {
     "name": "stdout",
     "output_type": "stream",
     "text": [
      "Epoch 41/50 | Train G Loss: 0.0077, Train D Loss: 0.0077 | Val G Loss: 0.0199, Val D Loss: 0.0199\n",
      "Новая лучшая по Validation Discriminator Loss (0.019879) модель сохранена в /home/igel2/Projects/ml_final/models/ColorizationModel_best_val.pth.\n",
      "\n"
     ]
    },
    {
     "name": "stderr",
     "output_type": "stream",
     "text": [
      "Epoch 42/50: 100%|██████████| 607/607 [04:36<00:00,  2.19it/s, loss=0.00684]\n",
      "Validation: 100%|██████████| 152/152 [00:22<00:00,  6.86it/s, loss=0.0329] \n"
     ]
    },
    {
     "name": "stdout",
     "output_type": "stream",
     "text": [
      "Epoch 42/50 | Train G Loss: 0.0077, Train D Loss: 0.0077 | Val G Loss: 0.0199, Val D Loss: 0.0199\n",
      "Новая лучшая по Validation Discriminator Loss (0.019932) модель сохранена в /home/igel2/Projects/ml_final/models/ColorizationModel_best_val.pth.\n",
      "Новая лучшая по Train Discriminator Loss (0.007692) модель сохранена в /home/igel2/Projects/ml_final/models/ColorizationModel_best_train.pth.\n",
      "\n"
     ]
    },
    {
     "name": "stderr",
     "output_type": "stream",
     "text": [
      "Epoch 43/50: 100%|██████████| 607/607 [04:43<00:00,  2.14it/s, loss=0.00805]\n",
      "Validation: 100%|██████████| 152/152 [00:22<00:00,  6.83it/s, loss=0.015] \n"
     ]
    },
    {
     "name": "stdout",
     "output_type": "stream",
     "text": [
      "Epoch 43/50 | Train G Loss: 0.0077, Train D Loss: 0.0077 | Val G Loss: 0.0199, Val D Loss: 0.0199\n",
      "Новая лучшая по Validation Discriminator Loss (0.019864) модель сохранена в /home/igel2/Projects/ml_final/models/ColorizationModel_best_val.pth.\n",
      "Новая лучшая по Train Discriminator Loss (0.007681) модель сохранена в /home/igel2/Projects/ml_final/models/ColorizationModel_best_train.pth.\n",
      "\n"
     ]
    },
    {
     "name": "stderr",
     "output_type": "stream",
     "text": [
      "Epoch 44/50: 100%|██████████| 607/607 [04:43<00:00,  2.14it/s, loss=0.0059] \n",
      "Validation: 100%|██████████| 152/152 [00:22<00:00,  6.75it/s, loss=0.00964]\n"
     ]
    },
    {
     "name": "stdout",
     "output_type": "stream",
     "text": [
      "Epoch 44/50 | Train G Loss: 0.0077, Train D Loss: 0.0077 | Val G Loss: 0.0199, Val D Loss: 0.0199\n",
      "Новая лучшая по Validation Discriminator Loss (0.019899) модель сохранена в /home/igel2/Projects/ml_final/models/ColorizationModel_best_val.pth.\n",
      "\n"
     ]
    },
    {
     "name": "stderr",
     "output_type": "stream",
     "text": [
      "Epoch 45/50: 100%|██████████| 607/607 [04:43<00:00,  2.14it/s, loss=0.0109] \n",
      "Validation: 100%|██████████| 152/152 [00:22<00:00,  6.70it/s, loss=0.0185]\n"
     ]
    },
    {
     "name": "stdout",
     "output_type": "stream",
     "text": [
      "Epoch 45/50 | Train G Loss: 0.0077, Train D Loss: 0.0077 | Val G Loss: 0.0199, Val D Loss: 0.0199\n",
      "Новая лучшая по Validation Discriminator Loss (0.019867) модель сохранена в /home/igel2/Projects/ml_final/models/ColorizationModel_best_val.pth.\n",
      "\n"
     ]
    },
    {
     "name": "stderr",
     "output_type": "stream",
     "text": [
      "Epoch 46/50: 100%|██████████| 607/607 [04:54<00:00,  2.06it/s, loss=0.00763]\n",
      "Validation: 100%|██████████| 152/152 [00:23<00:00,  6.43it/s, loss=0.0229]\n"
     ]
    },
    {
     "name": "stdout",
     "output_type": "stream",
     "text": [
      "Epoch 46/50 | Train G Loss: 0.0077, Train D Loss: 0.0077 | Val G Loss: 0.0199, Val D Loss: 0.0199\n",
      "Новая лучшая по Validation Discriminator Loss (0.019929) модель сохранена в /home/igel2/Projects/ml_final/models/ColorizationModel_best_val.pth.\n",
      "\n"
     ]
    },
    {
     "name": "stderr",
     "output_type": "stream",
     "text": [
      "Epoch 47/50: 100%|██████████| 607/607 [04:55<00:00,  2.06it/s, loss=0.0105] \n",
      "Validation: 100%|██████████| 152/152 [00:23<00:00,  6.58it/s, loss=0.0157]\n"
     ]
    },
    {
     "name": "stdout",
     "output_type": "stream",
     "text": [
      "Epoch 47/50 | Train G Loss: 0.0077, Train D Loss: 0.0077 | Val G Loss: 0.0199, Val D Loss: 0.0199\n",
      "Новая лучшая по Validation Discriminator Loss (0.019942) модель сохранена в /home/igel2/Projects/ml_final/models/ColorizationModel_best_val.pth.\n",
      "\n"
     ]
    },
    {
     "name": "stderr",
     "output_type": "stream",
     "text": [
      "Epoch 48/50: 100%|██████████| 607/607 [04:45<00:00,  2.13it/s, loss=0.00842]\n",
      "Validation: 100%|██████████| 152/152 [00:22<00:00,  6.73it/s, loss=0.0125]\n"
     ]
    },
    {
     "name": "stdout",
     "output_type": "stream",
     "text": [
      "Epoch 48/50 | Train G Loss: 0.0077, Train D Loss: 0.0077 | Val G Loss: 0.0199, Val D Loss: 0.0199\n",
      "Новая лучшая по Validation Discriminator Loss (0.019859) модель сохранена в /home/igel2/Projects/ml_final/models/ColorizationModel_best_val.pth.\n",
      "\n"
     ]
    },
    {
     "name": "stderr",
     "output_type": "stream",
     "text": [
      "Epoch 49/50: 100%|██████████| 607/607 [04:43<00:00,  2.14it/s, loss=0.00689]\n",
      "Validation: 100%|██████████| 152/152 [00:22<00:00,  6.72it/s, loss=0.0168]\n"
     ]
    },
    {
     "name": "stdout",
     "output_type": "stream",
     "text": [
      "Epoch 49/50 | Train G Loss: 0.0077, Train D Loss: 0.0077 | Val G Loss: 0.0199, Val D Loss: 0.0199\n",
      "Новая лучшая по Validation Discriminator Loss (0.019921) модель сохранена в /home/igel2/Projects/ml_final/models/ColorizationModel_best_val.pth.\n",
      "\n"
     ]
    },
    {
     "name": "stderr",
     "output_type": "stream",
     "text": [
      "Epoch 50/50: 100%|██████████| 607/607 [04:43<00:00,  2.14it/s, loss=0.00695]\n",
      "Validation: 100%|██████████| 152/152 [00:22<00:00,  6.73it/s, loss=0.0134] \n"
     ]
    },
    {
     "name": "stdout",
     "output_type": "stream",
     "text": [
      "Epoch 50/50 | Train G Loss: 0.0077, Train D Loss: 0.0077 | Val G Loss: 0.0198, Val D Loss: 0.0198\n",
      "Новая лучшая по Validation Discriminator Loss (0.019844) модель сохранена в /home/igel2/Projects/ml_final/models/ColorizationModel_best_val.pth.\n",
      "Новая лучшая по Train Discriminator Loss (0.007674) модель сохранена в /home/igel2/Projects/ml_final/models/ColorizationModel_best_train.pth.\n",
      "\n"
     ]
    }
   ],
   "source": [
    "model = ColorizationModel().to(device)\n",
    "criterion = nn.MSELoss()\n",
    "\n",
    "fit_result = fit(model, train_loader, val_loader, num_epochs, device, criterion)\n",
    "_, train_loss_by_epoch, val_loss_by_epoch = fit_result"
   ]
  },
  {
   "cell_type": "markdown",
   "id": "307a2871",
   "metadata": {},
   "source": [
    "# Визуализация loss-графиков "
   ]
  },
  {
   "cell_type": "code",
   "execution_count": 27,
   "id": "0635b6bf",
   "metadata": {},
   "outputs": [],
   "source": [
    "def plot_losses(train_Loss, val_Loss):\n",
    "    epochs = range(1, len(train_Loss) + 1)\n",
    "    val_epochs = range(1, len(val_Loss) + 1)\n",
    "\n",
    "    plt.figure(figsize=(14, 6))\n",
    "\n",
    "    # График потерь генератора\n",
    "    plt.plot(epochs, train_Loss, label='Train Loss', alpha=0.7)\n",
    "    plt.plot(val_epochs, val_Loss, label='Validation Loss', alpha=0.7)\n",
    "    plt.title('Loss')\n",
    "    plt.xlabel('Epoch')\n",
    "    plt.ylabel('Loss')\n",
    "    plt.legend()\n",
    "    plt.grid(True)\n",
    "\n",
    "    plt.tight_layout()\n",
    "    plt.show()"
   ]
  },
  {
   "cell_type": "code",
   "execution_count": 28,
   "id": "3e6a6269",
   "metadata": {},
   "outputs": [
    {
     "data": {
      "image/png": "[encoded data removed]",
      "text/plain": [
       "<Figure size 1400x600 with 1 Axes>"
      ]
     },
     "metadata": {},
     "output_type": "display_data"
    }
   ],
   "source": [
    "# Визуализация графиков\n",
    "plot_losses(train_loss_by_epoch, val_loss_by_epoch)"
   ]
  }
 ],
 "metadata": {
  "kernelspec": {
   "display_name": "mlgpu",
   "language": "python",
   "name": "python3"
  },
  "language_info": {
   "codemirror_mode": {
    "name": "ipython",
    "version": 3
   },
   "file_extension": ".py",
   "mimetype": "text/x-python",
   "name": "python",
   "nbconvert_exporter": "python",
   "pygments_lexer": "ipython3",
   "version": "3.12.9"
  }
 },
 "nbformat": 4,
 "nbformat_minor": 5
}
